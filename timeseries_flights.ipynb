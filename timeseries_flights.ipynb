{
 "cells": [
  {
   "cell_type": "code",
   "execution_count": 1,
   "metadata": {},
   "outputs": [],
   "source": [
    "import torch\n",
    "import torch.nn as nn\n",
    "\n",
    "import seaborn as sns\n",
    "import numpy as np\n",
    "import pandas as pad\n",
    "import matplotlib.pyplot as plt\n",
    "\n",
    "%matplotlib inline"
   ]
  },
  {
   "cell_type": "code",
   "execution_count": 2,
   "metadata": {},
   "outputs": [
    {
     "name": "stderr",
     "output_type": "stream",
     "text": [
      "/home/jan/.venv/ml/lib/python3.8/site-packages/seaborn/utils.py:384: GuessedAtParserWarning: No parser was explicitly specified, so I'm using the best available HTML parser for this system (\"html.parser\"). This usually isn't a problem, but if you run this code on another system, or in a different virtual environment, it may use a different parser and behave differently.\n",
      "\n",
      "The code that caused this warning is on line 384 of the file /home/jan/.venv/ml/lib/python3.8/site-packages/seaborn/utils.py. To get rid of this warning, pass the additional argument 'features=\"html.parser\"' to the BeautifulSoup constructor.\n",
      "\n",
      "  gh_list = BeautifulSoup(http)\n"
     ]
    },
    {
     "data": {
      "text/plain": [
       "['anagrams',\n",
       " 'anscombe',\n",
       " 'attention',\n",
       " 'brain_networks',\n",
       " 'car_crashes',\n",
       " 'diamonds',\n",
       " 'dots',\n",
       " 'exercise',\n",
       " 'flights',\n",
       " 'fmri',\n",
       " 'gammas',\n",
       " 'geyser',\n",
       " 'iris',\n",
       " 'mpg',\n",
       " 'penguins',\n",
       " 'planets',\n",
       " 'tips',\n",
       " 'titanic']"
      ]
     },
     "execution_count": 2,
     "metadata": {},
     "output_type": "execute_result"
    }
   ],
   "source": [
    "sns.get_dataset_names()"
   ]
  },
  {
   "cell_type": "code",
   "execution_count": 3,
   "metadata": {},
   "outputs": [
    {
     "data": {
      "text/html": [
       "<div>\n",
       "<style scoped>\n",
       "    .dataframe tbody tr th:only-of-type {\n",
       "        vertical-align: middle;\n",
       "    }\n",
       "\n",
       "    .dataframe tbody tr th {\n",
       "        vertical-align: top;\n",
       "    }\n",
       "\n",
       "    .dataframe thead th {\n",
       "        text-align: right;\n",
       "    }\n",
       "</style>\n",
       "<table border=\"1\" class=\"dataframe\">\n",
       "  <thead>\n",
       "    <tr style=\"text-align: right;\">\n",
       "      <th></th>\n",
       "      <th>year</th>\n",
       "      <th>month</th>\n",
       "      <th>passengers</th>\n",
       "    </tr>\n",
       "  </thead>\n",
       "  <tbody>\n",
       "    <tr>\n",
       "      <th>0</th>\n",
       "      <td>1949</td>\n",
       "      <td>January</td>\n",
       "      <td>112</td>\n",
       "    </tr>\n",
       "    <tr>\n",
       "      <th>1</th>\n",
       "      <td>1949</td>\n",
       "      <td>February</td>\n",
       "      <td>118</td>\n",
       "    </tr>\n",
       "    <tr>\n",
       "      <th>2</th>\n",
       "      <td>1949</td>\n",
       "      <td>March</td>\n",
       "      <td>132</td>\n",
       "    </tr>\n",
       "    <tr>\n",
       "      <th>3</th>\n",
       "      <td>1949</td>\n",
       "      <td>April</td>\n",
       "      <td>129</td>\n",
       "    </tr>\n",
       "    <tr>\n",
       "      <th>4</th>\n",
       "      <td>1949</td>\n",
       "      <td>May</td>\n",
       "      <td>121</td>\n",
       "    </tr>\n",
       "  </tbody>\n",
       "</table>\n",
       "</div>"
      ],
      "text/plain": [
       "   year     month  passengers\n",
       "0  1949   January         112\n",
       "1  1949  February         118\n",
       "2  1949     March         132\n",
       "3  1949     April         129\n",
       "4  1949       May         121"
      ]
     },
     "execution_count": 3,
     "metadata": {},
     "output_type": "execute_result"
    }
   ],
   "source": [
    "flight_data = sns.load_dataset(\"flights\")\n",
    "flight_data.head()"
   ]
  },
  {
   "cell_type": "code",
   "execution_count": 4,
   "metadata": {},
   "outputs": [
    {
     "data": {
      "text/plain": [
       "(144, 3)"
      ]
     },
     "execution_count": 4,
     "metadata": {},
     "output_type": "execute_result"
    }
   ],
   "source": [
    "flight_data.shape"
   ]
  },
  {
   "cell_type": "code",
   "execution_count": 5,
   "metadata": {},
   "outputs": [],
   "source": [
    "fig_size = plt.rcParams[\"figure.figsize\"]\n",
    "fig_size[0] = 15\n",
    "fig_size[1] = 5\n",
    "plt.rcParams[\"figure.figsize\"] = fig_size"
   ]
  },
  {
   "cell_type": "code",
   "execution_count": 6,
   "metadata": {},
   "outputs": [
    {
     "data": {
      "text/plain": [
       "[<matplotlib.lines.Line2D at 0x7f2722577580>]"
      ]
     },
     "execution_count": 6,
     "metadata": {},
     "output_type": "execute_result"
    },
    {
     "data": {
      "image/png": "[encoded data removed]",
      "text/plain": [
       "<Figure size 1080x360 with 1 Axes>"
      ]
     },
     "metadata": {
      "needs_background": "light"
     },
     "output_type": "display_data"
    }
   ],
   "source": [
    "plt.title('Month vs Passenger')\n",
    "plt.ylabel('Total Passengers')\n",
    "plt.xlabel('Months')\n",
    "plt.grid(True)\n",
    "plt.autoscale(axis='x', tight=True)\n",
    "plt.plot(flight_data['passengers'])"
   ]
  },
  {
   "cell_type": "code",
   "execution_count": 7,
   "metadata": {},
   "outputs": [
    {
     "data": {
      "text/plain": [
       "Index(['year', 'month', 'passengers'], dtype='object')"
      ]
     },
     "execution_count": 7,
     "metadata": {},
     "output_type": "execute_result"
    }
   ],
   "source": [
    "flight_data.columns"
   ]
  },
  {
   "cell_type": "code",
   "execution_count": 8,
   "metadata": {},
   "outputs": [],
   "source": [
    "all_data = flight_data['passengers'].values.astype(float)"
   ]
  },
  {
   "cell_type": "code",
   "execution_count": 9,
   "metadata": {},
   "outputs": [
    {
     "name": "stdout",
     "output_type": "stream",
     "text": [
      "[112. 118. 132. 129. 121. 135. 148. 148. 136. 119. 104. 118. 115. 126.\n",
      " 141. 135. 125. 149. 170. 170. 158. 133. 114. 140. 145. 150. 178. 163.\n",
      " 172. 178. 199. 199. 184. 162. 146. 166. 171. 180. 193. 181. 183. 218.\n",
      " 230. 242. 209. 191. 172. 194. 196. 196. 236. 235. 229. 243. 264. 272.\n",
      " 237. 211. 180. 201. 204. 188. 235. 227. 234. 264. 302. 293. 259. 229.\n",
      " 203. 229. 242. 233. 267. 269. 270. 315. 364. 347. 312. 274. 237. 278.\n",
      " 284. 277. 317. 313. 318. 374. 413. 405. 355. 306. 271. 306. 315. 301.\n",
      " 356. 348. 355. 422. 465. 467. 404. 347. 305. 336. 340. 318. 362. 348.\n",
      " 363. 435. 491. 505. 404. 359. 310. 337. 360. 342. 406. 396. 420. 472.\n",
      " 548. 559. 463. 407. 362. 405. 417. 391. 419. 461. 472. 535. 622. 606.\n",
      " 508. 461. 390. 432.]\n"
     ]
    }
   ],
   "source": [
    "print(all_data)"
   ]
  },
  {
   "cell_type": "code",
   "execution_count": 10,
   "metadata": {},
   "outputs": [],
   "source": [
    "test_data_size = 12\n",
    "train_data = all_data[:-test_data_size]\n",
    "test_data = all_data[-test_data_size:]"
   ]
  },
  {
   "cell_type": "code",
   "execution_count": 11,
   "metadata": {},
   "outputs": [
    {
     "name": "stdout",
     "output_type": "stream",
     "text": [
      "132\n",
      "12\n"
     ]
    }
   ],
   "source": [
    "print(len(train_data))\n",
    "print(len(test_data))"
   ]
  },
  {
   "cell_type": "code",
   "execution_count": 12,
   "metadata": {},
   "outputs": [
    {
     "name": "stdout",
     "output_type": "stream",
     "text": [
      "[417. 391. 419. 461. 472. 535. 622. 606. 508. 461. 390. 432.]\n"
     ]
    }
   ],
   "source": [
    "print(test_data)"
   ]
  },
  {
   "cell_type": "code",
   "execution_count": 13,
   "metadata": {},
   "outputs": [],
   "source": [
    "from sklearn.preprocessing import MinMaxScaler\n",
    "\n",
    "scaler = MinMaxScaler(feature_range=(-1, 1))\n",
    "train_data_normalized = scaler.fit_transform(train_data.reshape(-1, 1))"
   ]
  },
  {
   "cell_type": "code",
   "execution_count": 14,
   "metadata": {},
   "outputs": [
    {
     "name": "stdout",
     "output_type": "stream",
     "text": [
      "[[-0.96483516]\n",
      " [-0.93846154]\n",
      " [-0.87692308]\n",
      " [-0.89010989]\n",
      " [-0.92527473]]\n",
      "[[1.        ]\n",
      " [0.57802198]\n",
      " [0.33186813]\n",
      " [0.13406593]\n",
      " [0.32307692]]\n"
     ]
    }
   ],
   "source": [
    "print(train_data_normalized[:5])\n",
    "print(train_data_normalized[-5:])"
   ]
  },
  {
   "cell_type": "code",
   "execution_count": 15,
   "metadata": {},
   "outputs": [],
   "source": [
    "train_data_normalized = torch.FloatTensor(train_data_normalized).view(-1)"
   ]
  },
  {
   "cell_type": "code",
   "execution_count": 16,
   "metadata": {},
   "outputs": [],
   "source": [
    "train_window = 12\n",
    "\n",
    "def create_inout_sequences(input_data, tw=train_window):\n",
    "    inout_seq = []\n",
    "    L = len(input_data)\n",
    "    for i in range(L - tw):\n",
    "        train_seq = input_data[i:i + tw]\n",
    "        train_label = input_data[i + tw:i + tw + 1]\n",
    "        inout_seq.append((train_seq, train_label))\n",
    "    return inout_seq"
   ]
  },
  {
   "cell_type": "code",
   "execution_count": 17,
   "metadata": {},
   "outputs": [],
   "source": [
    "train_inout_seq = create_inout_sequences(train_data_normalized)"
   ]
  },
  {
   "cell_type": "code",
   "execution_count": 18,
   "metadata": {},
   "outputs": [
    {
     "data": {
      "text/plain": [
       "[(tensor([-0.9648, -0.9385, -0.8769, -0.8901, -0.9253, -0.8637, -0.8066, -0.8066,\n",
       "          -0.8593, -0.9341, -1.0000, -0.9385]),\n",
       "  tensor([-0.9516])),\n",
       " (tensor([-0.9385, -0.8769, -0.8901, -0.9253, -0.8637, -0.8066, -0.8066, -0.8593,\n",
       "          -0.9341, -1.0000, -0.9385, -0.9516]),\n",
       "  tensor([-0.9033])),\n",
       " (tensor([-0.8769, -0.8901, -0.9253, -0.8637, -0.8066, -0.8066, -0.8593, -0.9341,\n",
       "          -1.0000, -0.9385, -0.9516, -0.9033]),\n",
       "  tensor([-0.8374])),\n",
       " (tensor([-0.8901, -0.9253, -0.8637, -0.8066, -0.8066, -0.8593, -0.9341, -1.0000,\n",
       "          -0.9385, -0.9516, -0.9033, -0.8374]),\n",
       "  tensor([-0.8637])),\n",
       " (tensor([-0.9253, -0.8637, -0.8066, -0.8066, -0.8593, -0.9341, -1.0000, -0.9385,\n",
       "          -0.9516, -0.9033, -0.8374, -0.8637]),\n",
       "  tensor([-0.9077]))]"
      ]
     },
     "execution_count": 18,
     "metadata": {},
     "output_type": "execute_result"
    }
   ],
   "source": [
    "train_inout_seq[:5]"
   ]
  },
  {
   "cell_type": "code",
   "execution_count": 19,
   "metadata": {},
   "outputs": [],
   "source": [
    "class LSTM(nn.Module):\n",
    "    def __init__(self, input_size=1, hidden_layer_size=100, output_size=1):\n",
    "        super().__init__()\n",
    "        \n",
    "        self.hidden_layer_size = hidden_layer_size\n",
    "        self.lstm = nn.LSTM(input_size, hidden_layer_size)\n",
    "        self.linear = nn.Linear(hidden_layer_size, output_size)\n",
    "        \n",
    "        self.hidden_cell = (torch.zeros(1, 1, self.hidden_layer_size),\n",
    "                            torch.zeros(1, 1, self.hidden_layer_size))\n",
    "    \n",
    "    def forward(self, input_seq):\n",
    "        model_input_seq = input_seq.view(len(input_seq), 1, -1)\n",
    "        \n",
    "        lstm_out, self.hidden_cell = self.lstm(model_input_seq, self.hidden_cell)\n",
    "        predictions = self.linear(lstm_out.view(len(input_seq), -1))\n",
    "        \n",
    "        return predictions[-1]"
   ]
  },
  {
   "cell_type": "code",
   "execution_count": 20,
   "metadata": {},
   "outputs": [],
   "source": [
    "device = 'cuda'\n",
    "\n",
    "model = LSTM().to(device)\n",
    "loss_function = nn.MSELoss().to(device)\n",
    "optimizer = torch.optim.Adam(model.parameters(), lr=0.001)"
   ]
  },
  {
   "cell_type": "code",
   "execution_count": 21,
   "metadata": {},
   "outputs": [
    {
     "name": "stdout",
     "output_type": "stream",
     "text": [
      "LSTM(\n",
      "  (lstm): LSTM(1, 100)\n",
      "  (linear): Linear(in_features=100, out_features=1, bias=True)\n",
      ")\n"
     ]
    }
   ],
   "source": [
    "print(model)"
   ]
  },
  {
   "cell_type": "code",
   "execution_count": 22,
   "metadata": {},
   "outputs": [
    {
     "name": "stdout",
     "output_type": "stream",
     "text": [
      "epoch:   1 loss: 0.01658487\n",
      "epoch:  26 loss: 0.01119320\n",
      "epoch:  51 loss: 0.00028683\n",
      "epoch:  76 loss: 0.00394931\n",
      "epoch: 101 loss: 0.00000177\n",
      "epoch: 126 loss: 0.00022931\n",
      "epoch: 149 loss: 0.0064642662\n"
     ]
    }
   ],
   "source": [
    "epochs = 150\n",
    "\n",
    "for i in range(epochs):\n",
    "    for seq, labels in train_inout_seq:\n",
    "        optimizer.zero_grad()\n",
    "        model.hidden_cell = (torch.zeros(1, 1, model.hidden_layer_size).to(device),\n",
    "                        torch.zeros(1, 1, model.hidden_layer_size).to(device))\n",
    "\n",
    "        y_pred = model(seq.to(device))\n",
    "\n",
    "        single_loss = loss_function(y_pred.cpu(), labels)\n",
    "        single_loss.backward()\n",
    "        optimizer.step()\n",
    "\n",
    "    if i%25 == 1:\n",
    "        print(f'epoch: {i:3} loss: {single_loss.item():10.8f}')\n",
    "\n",
    "print(f'epoch: {i:3} loss: {single_loss.item():10.10f}')"
   ]
  },
  {
   "cell_type": "code",
   "execution_count": 23,
   "metadata": {},
   "outputs": [
    {
     "name": "stdout",
     "output_type": "stream",
     "text": [
      "[0.12527473270893097, 0.04615384712815285, 0.3274725377559662, 0.2835164964199066, 0.3890109956264496, 0.6175824403762817, 0.9516483545303345, 1.0, 0.5780220031738281, 0.33186814188957214, 0.13406594097614288, 0.32307693362236023]\n"
     ]
    }
   ],
   "source": [
    "fut_pred = 12\n",
    "\n",
    "test_inputs = train_data_normalized[-train_window:].tolist()\n",
    "print(test_inputs)"
   ]
  },
  {
   "cell_type": "code",
   "execution_count": 24,
   "metadata": {},
   "outputs": [],
   "source": [
    "model.eval()\n",
    "\n",
    "for i in range(fut_pred):\n",
    "    seq = torch.FloatTensor(test_inputs[-train_window:]).to(device)\n",
    "    with torch.no_grad():\n",
    "        model.hidden = (torch.zeros(1, 1, model.hidden_layer_size).to(device),\n",
    "                        torch.zeros(1, 1, model.hidden_layer_size).to(device))\n",
    "        test_inputs.append(model(seq).item())"
   ]
  },
  {
   "cell_type": "code",
   "execution_count": 25,
   "metadata": {},
   "outputs": [
    {
     "data": {
      "text/plain": [
       "[0.3581516742706299,\n",
       " 0.11232693493366241,\n",
       " 0.20219559967517853,\n",
       " 0.2978287637233734,\n",
       " 0.19357450306415558,\n",
       " 0.3594295084476471,\n",
       " 0.5899689197540283,\n",
       " 0.7769582271575928,\n",
       " 0.6200307607650757,\n",
       " 0.33876532316207886,\n",
       " 0.18041247129440308,\n",
       " 0.03927125036716461]"
      ]
     },
     "execution_count": 25,
     "metadata": {},
     "output_type": "execute_result"
    }
   ],
   "source": [
    "test_inputs[fut_pred:]"
   ]
  },
  {
   "cell_type": "code",
   "execution_count": 26,
   "metadata": {},
   "outputs": [
    {
     "name": "stdout",
     "output_type": "stream",
     "text": [
      "[[412.9795059 ]\n",
      " [357.0543777 ]\n",
      " [377.49949893]\n",
      " [399.25604375]\n",
      " [375.53819945]\n",
      " [413.27021317]\n",
      " [465.71792924]\n",
      " [508.25799668]\n",
      " [472.55699807]\n",
      " [408.56911102]\n",
      " [372.54383722]\n",
      " [340.43420946]]\n"
     ]
    }
   ],
   "source": [
    "actual_predictions = scaler.inverse_transform(np.array(test_inputs[train_window:] ).reshape(-1, 1))\n",
    "print(actual_predictions)"
   ]
  },
  {
   "cell_type": "code",
   "execution_count": 27,
   "metadata": {},
   "outputs": [
    {
     "name": "stdout",
     "output_type": "stream",
     "text": [
      "[132 133 134 135 136 137 138 139 140 141 142 143]\n"
     ]
    }
   ],
   "source": [
    "x = np.arange(132, 144, 1)\n",
    "print(x)"
   ]
  },
  {
   "cell_type": "code",
   "execution_count": 28,
   "metadata": {},
   "outputs": [
    {
     "data": {
      "image/png": "[encoded data removed]",
      "text/plain": [
       "<Figure size 1080x360 with 1 Axes>"
      ]
     },
     "metadata": {
      "needs_background": "light"
     },
     "output_type": "display_data"
    }
   ],
   "source": [
    "plt.title('Month vs Passenger')\n",
    "plt.ylabel('Total Passengers')\n",
    "plt.grid(True)\n",
    "plt.autoscale(axis='x', tight=True)\n",
    "plt.plot(flight_data['passengers'])\n",
    "plt.plot(x,actual_predictions)\n",
    "plt.show()"
   ]
  },
  {
   "cell_type": "code",
   "execution_count": 73,
   "metadata": {},
   "outputs": [
    {
     "name": "stdout",
     "output_type": "stream",
     "text": [
      "epoch:   1 loss: 0.20996761\n",
      "epoch: 101 loss: 0.20025834\n",
      "epoch: 201 loss: 0.20025633\n",
      "epoch: 301 loss: 0.02598964\n",
      "epoch: 401 loss: 0.00779804\n",
      "epoch: 501 loss: 0.00647570\n",
      "epoch: 601 loss: 0.00601245\n",
      "epoch: 701 loss: 0.00559084\n",
      "epoch: 801 loss: 0.00537189\n",
      "epoch: 901 loss: 0.00518567\n",
      "epoch: 1001 loss: 0.00504553\n",
      "epoch: 1101 loss: 0.00494650\n",
      "epoch: 1201 loss: 0.00497868\n",
      "epoch: 1301 loss: 0.00479151\n",
      "epoch: 1401 loss: 0.00476588\n",
      "epoch: 1501 loss: 0.00471779\n",
      "epoch: 1601 loss: 0.00540724\n",
      "epoch: 1701 loss: 0.00468356\n",
      "epoch: 1801 loss: 0.00466166\n",
      "epoch: 1901 loss: 0.00466369\n",
      "epoch: 2001 loss: 0.00464523\n",
      "epoch: 2101 loss: 0.00463238\n",
      "epoch: 2201 loss: 0.00632729\n",
      "epoch: 2301 loss: 0.00462203\n",
      "epoch: 2401 loss: 0.00461197\n",
      "epoch: 2501 loss: 0.00460489\n",
      "epoch: 2601 loss: 0.00460463\n",
      "epoch: 2701 loss: 0.00459521\n",
      "epoch: 2801 loss: 0.00458936\n",
      "epoch: 2901 loss: 0.00470864\n",
      "epoch: 3001 loss: 0.00458088\n",
      "epoch: 3101 loss: 0.00457617\n",
      "epoch: 3201 loss: 0.00458870\n",
      "epoch: 3301 loss: 0.00456947\n",
      "epoch: 3401 loss: 0.00456517\n",
      "epoch: 3501 loss: 0.00456218\n",
      "epoch: 3601 loss: 0.00463009\n",
      "epoch: 3701 loss: 0.00455618\n",
      "epoch: 3801 loss: 0.00455342\n",
      "epoch: 3901 loss: 0.00526989\n",
      "epoch: 4001 loss: 0.00454796\n",
      "epoch: 4101 loss: 0.00454512\n",
      "epoch: 4201 loss: 0.00457496\n",
      "epoch: 4301 loss: 0.00453910\n",
      "epoch: 4401 loss: 0.00453606\n",
      "epoch: 4501 loss: 0.00455556\n",
      "epoch: 4601 loss: 0.00452917\n",
      "epoch: 4701 loss: 0.00452529\n",
      "epoch: 4801 loss: 0.00452148\n",
      "epoch: 4901 loss: 0.00477074\n",
      "epoch: 5001 loss: 0.00451271\n",
      "epoch: 5101 loss: 0.00450788\n",
      "epoch: 5201 loss: 0.00450289\n",
      "epoch: 5301 loss: 0.00449783\n",
      "epoch: 5401 loss: 0.00449184\n",
      "epoch: 5501 loss: 0.00448609\n",
      "epoch: 5601 loss: 0.00448035\n",
      "epoch: 5701 loss: 0.00447374\n",
      "epoch: 5801 loss: 0.00490652\n",
      "epoch: 5901 loss: 0.00446096\n",
      "epoch: 6001 loss: 0.00445476\n",
      "epoch: 6101 loss: 0.00462184\n",
      "epoch: 6201 loss: 0.00444192\n",
      "epoch: 6301 loss: 0.00443581\n",
      "epoch: 6401 loss: 0.00454443\n",
      "epoch: 6501 loss: 0.00442289\n",
      "epoch: 6601 loss: 0.00441660\n",
      "epoch: 6701 loss: 0.00537072\n",
      "epoch: 6801 loss: 0.00440310\n",
      "epoch: 6901 loss: 0.00439647\n",
      "epoch: 7001 loss: 0.00438969\n",
      "epoch: 7101 loss: 0.00438168\n",
      "epoch: 7201 loss: 0.00437379\n",
      "epoch: 7301 loss: 0.00444319\n",
      "epoch: 7401 loss: 0.00435546\n",
      "epoch: 7501 loss: 0.00434526\n",
      "epoch: 7601 loss: 0.00435155\n",
      "epoch: 7701 loss: 0.00432008\n",
      "epoch: 7801 loss: 0.00430492\n",
      "epoch: 7901 loss: 0.00429112\n",
      "epoch: 8001 loss: 0.00427428\n",
      "epoch: 8101 loss: 0.00436707\n",
      "epoch: 8201 loss: 0.00424524\n",
      "epoch: 8301 loss: 0.00423199\n",
      "epoch: 8401 loss: 0.00422313\n",
      "epoch: 8501 loss: 0.00421325\n",
      "epoch: 8601 loss: 0.00447236\n",
      "epoch: 8701 loss: 0.00419860\n",
      "epoch: 8801 loss: 0.00419158\n",
      "epoch: 8901 loss: 0.00421768\n",
      "epoch: 9001 loss: 0.00417843\n",
      "epoch: 9101 loss: 0.00417154\n",
      "epoch: 9201 loss: 0.00418208\n",
      "epoch: 9301 loss: 0.00415778\n",
      "epoch: 9401 loss: 0.00425259\n",
      "epoch: 9501 loss: 0.00414342\n",
      "epoch: 9601 loss: 0.00413559\n",
      "epoch: 9701 loss: 0.00412939\n",
      "epoch: 9801 loss: 0.00411957\n",
      "epoch: 9901 loss: 0.00411239\n",
      "epoch: 9999 loss: 0.0041020992\n",
      "[-0.9648351669311523, -0.9384615421295166, -0.8769230842590332, -0.8901098966598511, -0.9252747297286987, -0.8637362718582153, -0.8065934181213379, -0.8065934181213379, -0.8593406677246094, -0.9340659379959106, -1.0, -0.9384615421295166]\n",
      "[[128.60486]\n",
      " [136.51414]\n",
      " [152.48573]\n",
      " [147.4796 ]\n",
      " [139.97125]\n",
      " [158.76099]\n",
      " [174.12962]\n",
      " [172.77504]\n",
      " [156.17163]\n",
      " [134.22128]\n",
      " [120.89391]\n",
      " [136.02934]\n",
      " [149.00462]\n",
      " [161.40472]\n",
      " [178.55017]\n",
      " [172.31778]\n",
      " [166.14404]\n",
      " [186.94185]\n",
      " [200.52156]\n",
      " [197.73827]\n",
      " [180.6663 ]\n",
      " [153.8941 ]\n",
      " [140.02177]\n",
      " [160.06532]\n",
      " [176.33992]\n",
      " [189.82126]\n",
      " [204.22409]\n",
      " [197.80638]\n",
      " [194.46391]\n",
      " [214.32658]\n",
      " [226.47615]\n",
      " [222.36174]\n",
      " [204.32675]\n",
      " [178.81499]\n",
      " [166.40378]\n",
      " [188.12286]\n",
      " [203.69135]\n",
      " [217.33014]\n",
      " [229.4978 ]\n",
      " [222.95972]\n",
      " [221.98895]\n",
      " [241.71368]\n",
      " [253.68079]\n",
      " [247.66017]\n",
      " [227.8361 ]\n",
      " [203.52116]\n",
      " [194.78508]\n",
      " [215.3204 ]\n",
      " [230.61879]\n",
      " [244.87923]\n",
      " [256.14426]\n",
      " [248.71648]\n",
      " [249.9135 ]\n",
      " [276.1829 ]\n",
      " [294.38657]\n",
      " [282.66183]\n",
      " [252.5454 ]\n",
      " [228.126  ]\n",
      " [222.25146]\n",
      " [242.32887]\n",
      " [259.35443]\n",
      " [281.1722 ]\n",
      " [295.47308]\n",
      " [283.28354]\n",
      " [288.9545 ]\n",
      " [320.18997]\n",
      " [338.45602]\n",
      " [324.25366]\n",
      " [288.9834 ]\n",
      " [253.93018]\n",
      " [249.71753]\n",
      " [274.67944]\n",
      " [300.72882]\n",
      " [322.89175]\n",
      " [333.07114]\n",
      " [319.38483]\n",
      " [326.10712]\n",
      " [358.87256]\n",
      " [384.30283]\n",
      " [366.72372]\n",
      " [328.6563 ]\n",
      " [290.77585]\n",
      " [285.45477]\n",
      " [311.97723]\n",
      " [335.81586]\n",
      " [356.38092]\n",
      " [362.18698]\n",
      " [347.57922]\n",
      " [356.2401 ]\n",
      " [408.68646]\n",
      " [431.1245 ]\n",
      " [418.8813 ]\n",
      " [362.8876 ]\n",
      " [325.17178]\n",
      " [318.72382]\n",
      " [342.9054 ]\n",
      " [366.4661 ]\n",
      " [395.92435]\n",
      " [398.89166]\n",
      " [371.78735]\n",
      " [393.05917]\n",
      " [445.94373]\n",
      " [465.71103]\n",
      " [453.30972]\n",
      " [407.4033 ]\n",
      " [353.25986]\n",
      " [347.02634]\n",
      " [370.38647]\n",
      " [413.56726]\n",
      " [435.12653]\n",
      " [433.0801 ]\n",
      " [412.99707]\n",
      " [432.8311 ]\n",
      " [474.83783]\n",
      " [496.01566]\n",
      " [480.50793]\n",
      " [441.04868]\n",
      " [380.5446 ]\n",
      " [372.34872]\n",
      " [415.67014]\n",
      " [447.66614]\n",
      " [464.251  ]\n",
      " [459.14703]\n",
      " [444.30035]\n",
      " [462.17133]\n",
      " [505.74628]\n",
      " [544.4241 ]\n",
      " [518.3735 ]\n",
      " [466.4281 ]\n",
      " [420.01178]\n",
      " [416.21317]\n",
      " [448.33594]]\n",
      "[ 12  13  14  15  16  17  18  19  20  21  22  23  24  25  26  27  28  29\n",
      "  30  31  32  33  34  35  36  37  38  39  40  41  42  43  44  45  46  47\n",
      "  48  49  50  51  52  53  54  55  56  57  58  59  60  61  62  63  64  65\n",
      "  66  67  68  69  70  71  72  73  74  75  76  77  78  79  80  81  82  83\n",
      "  84  85  86  87  88  89  90  91  92  93  94  95  96  97  98  99 100 101\n",
      " 102 103 104 105 106 107 108 109 110 111 112 113 114 115 116 117 118 119\n",
      " 120 121 122 123 124 125 126 127 128 129 130 131 132 133 134 135 136 137\n",
      " 138 139 140 141 142 143]\n"
     ]
    },
    {
     "data": {
      "image/png": "[encoded data removed]",
      "text/plain": [
       "<Figure size 1080x360 with 1 Axes>"
      ]
     },
     "metadata": {
      "needs_background": "light"
     },
     "output_type": "display_data"
    }
   ],
   "source": [
    "class LSTM(nn.Module):\n",
    "    def __init__(self, input_size=1, hidden_layer_size=100, output_size=1, num_layers=12):\n",
    "        super().__init__()\n",
    "        \n",
    "        self.hidden_layer_size = hidden_layer_size\n",
    "        self.lstm = nn.LSTM(input_size, hidden_layer_size, num_layers=num_layers)\n",
    "        self.linear = nn.Linear(hidden_layer_size, output_size)\n",
    "        self.num_layers = num_layers\n",
    "        self.reset(0)\n",
    "    \n",
    "    def forward(self, input_seq):\n",
    "#         model_input_seq = input_seq.view(input_seq.shape[1], input_seq.shape[0], -1)    \n",
    "        lstm_out, self.hidden_cell = self.lstm(input_seq, self.hidden_cell)\n",
    "        predictions = self.linear(lstm_out.view(input_seq.shape[0], input_seq.shape[1], -1))\n",
    "        \n",
    "        return predictions[-1]\n",
    "    \n",
    "    def reset(self, batch_size):        \n",
    "        self.hidden_cell = (torch.zeros(self.num_layers, batch_size, self.hidden_layer_size).to(device),\n",
    "                        torch.zeros(self.num_layers, batch_size, self.hidden_layer_size).to(device))\n",
    "\n",
    "class FaceLandmarksDataset(Dataset):\n",
    "    \"\"\"Face Landmarks dataset.\"\"\"\n",
    "\n",
    "    def __init__(self, csv_file, root_dir, transform=None):\n",
    "        \"\"\"\n",
    "        Args:\n",
    "            csv_file (string): Path to the csv file with annotations.\n",
    "            root_dir (string): Directory with all the images.\n",
    "            transform (callable, optional): Optional transform to be applied\n",
    "                on a sample.\n",
    "        \"\"\"\n",
    "        self.landmarks_frame = pd.read_csv(csv_file)\n",
    "        self.root_dir = root_dir\n",
    "        self.transform = transform\n",
    "\n",
    "    def __len__(self):\n",
    "        return len(self.landmarks_frame)\n",
    "\n",
    "    def __getitem__(self, idx):\n",
    "        if torch.is_tensor(idx):\n",
    "            idx = idx.tolist()\n",
    "\n",
    "        img_name = os.path.join(self.root_dir,\n",
    "                                self.landmarks_frame.iloc[idx, 0])\n",
    "        image = io.imread(img_name)\n",
    "        landmarks = self.landmarks_frame.iloc[idx, 1:]\n",
    "        landmarks = np.array([landmarks])\n",
    "        landmarks = landmarks.astype('float').reshape(-1, 2)\n",
    "        sample = {'image': image, 'landmarks': landmarks}\n",
    "\n",
    "        if self.transform:\n",
    "            sample = self.transform(sample)\n",
    "\n",
    "        return sample\n",
    "    \n",
    "def build_model(epochs=1000, batch_size=40, lr=0.00001):\n",
    "    device = 'cuda'\n",
    "\n",
    "    model = LSTM().to(device)\n",
    "    loss_function = nn.MSELoss().to(device)\n",
    "    optimizer = torch.optim.Adam(model.parameters(), lr=lr)\n",
    "\n",
    "    for i in range(epochs):\n",
    "        for ix in range(0, len(train_inout_seq), batch_size):            \n",
    "            \n",
    "            optimizer.zero_grad()\n",
    "            \n",
    "            model.reset(batch_size)\n",
    "            \n",
    "            batch_seq = []\n",
    "            batch_labels = []\n",
    "            for sub_ix in range(batch_size):\n",
    "                batch_seq.append(train_inout_seq[ix + sub_ix][0])\n",
    "                batch_labels.append(train_inout_seq[ix + sub_ix][1])\n",
    "                \n",
    "            seq = torch.unsqueeze(torch.stack(batch_seq, dim=1), dim=-1)\n",
    "            labels = torch.unsqueeze(torch.stack(batch_labels, dim=1), dim=-1)\n",
    "            \n",
    "            y_pred = model(seq.to(device))\n",
    "            single_loss = loss_function(torch.unsqueeze(y_pred, dim=0), labels.to(device))\n",
    "            single_loss.backward()\n",
    "            optimizer.step()\n",
    "\n",
    "        if i%100 == 1:\n",
    "            print(f'epoch: {i:3} loss: {single_loss.item():10.8f}')\n",
    "\n",
    "    print(f'epoch: {i:3} loss: {single_loss.item():10.10f}')\n",
    "    \n",
    "    return model\n",
    "\n",
    "\n",
    "def validate_model(model):\n",
    "    fut_pred = 12\n",
    "\n",
    "    test_inputs = train_data_normalized[-train_window:].tolist()\n",
    "    \n",
    "    fut_pred = 132\n",
    "\n",
    "    test_inputs = train_data_normalized[:train_window].tolist()\n",
    "    print(test_inputs)\n",
    "    \n",
    "    model.eval()\n",
    "\n",
    "    for i in range(fut_pred):\n",
    "        seq = torch.FloatTensor(test_inputs[-train_window:]).view(train_window, 1, 1).to(device)\n",
    "        with torch.no_grad():\n",
    "            model.reset(1)\n",
    "            test_inputs.append(model(seq).cpu()[0])\n",
    "    \n",
    "    test_inputs[fut_pred:]\n",
    "    \n",
    "    actual_predictions = scaler.inverse_transform(np.array(test_inputs[train_window:] ).reshape(-1, 1))\n",
    "    print(actual_predictions)\n",
    "    \n",
    "    x = np.arange(12, 144, 1)\n",
    "    print(x)\n",
    "    \n",
    "    plt.title('Month vs Passenger')\n",
    "    plt.ylabel('Total Passengers')\n",
    "    plt.grid(True)\n",
    "    plt.autoscale(axis='x', tight=True)\n",
    "    plt.plot(flight_data['passengers'])\n",
    "    plt.plot(x,actual_predictions)\n",
    "    plt.show()\n",
    "\n",
    "model = build_model(10000, 120, 0.0001)\n",
    "validate_model(model)"
   ]
  },
  {
   "cell_type": "code",
   "execution_count": null,
   "metadata": {},
   "outputs": [],
   "source": []
  }
 ],
 "metadata": {
  "kernelspec": {
   "display_name": "Python 3",
   "language": "python",
   "name": "python3"
  },
  "language_info": {
   "codemirror_mode": {
    "name": "ipython",
    "version": 3
   },
   "file_extension": ".py",
   "mimetype": "text/x-python",
   "name": "python",
   "nbconvert_exporter": "python",
   "pygments_lexer": "ipython3",
   "version": "3.8.2"
  }
 },
 "nbformat": 4,
 "nbformat_minor": 4
}
