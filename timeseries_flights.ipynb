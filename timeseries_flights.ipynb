{
 "cells": [
  {
   "cell_type": "code",
   "execution_count": 1,
   "metadata": {},
   "outputs": [
    {
     "name": "stdout",
     "output_type": "stream",
     "text": [
      "Requirement already satisfied: seaborn in c:\\users\\jan\\appdata\\local\\programs\\python\\python38\\lib\\site-packages (0.10.1)\n",
      "Requirement already satisfied: numpy in c:\\users\\jan\\appdata\\local\\programs\\python\\python38\\lib\\site-packages (1.18.1)\n",
      "Requirement already satisfied: pandas in c:\\users\\jan\\appdata\\local\\programs\\python\\python38\\lib\\site-packages (1.1.1)\n",
      "Requirement already satisfied: matplotlib in c:\\users\\jan\\appdata\\local\\programs\\python\\python38\\lib\\site-packages (3.3.1)\n",
      "Requirement already satisfied: bs4 in c:\\users\\jan\\appdata\\local\\programs\\python\\python38\\lib\\site-packages (0.0.1)\n",
      "Requirement already satisfied: scikit-learn in c:\\users\\jan\\appdata\\local\\programs\\python\\python38\\lib\\site-packages (0.23.2)\n",
      "Requirement already satisfied: scipy>=1.0.1 in c:\\users\\jan\\appdata\\local\\programs\\python\\python38\\lib\\site-packages (from seaborn) (1.5.2)\n",
      "Requirement already satisfied: python-dateutil>=2.7.3 in c:\\users\\jan\\appdata\\local\\programs\\python\\python38\\lib\\site-packages (from pandas) (2.8.1)\n",
      "Requirement already satisfied: pytz>=2017.2 in c:\\users\\jan\\appdata\\local\\programs\\python\\python38\\lib\\site-packages (from pandas) (2020.1)\n",
      "Requirement already satisfied: pillow>=6.2.0 in c:\\users\\jan\\appdata\\local\\programs\\python\\python38\\lib\\site-packages (from matplotlib) (7.2.0)\n",
      "Requirement already satisfied: kiwisolver>=1.0.1 in c:\\users\\jan\\appdata\\local\\programs\\python\\python38\\lib\\site-packages (from matplotlib) (1.2.0)\n",
      "Requirement already satisfied: cycler>=0.10 in c:\\users\\jan\\appdata\\local\\programs\\python\\python38\\lib\\site-packages (from matplotlib) (0.10.0)\n",
      "Requirement already satisfied: pyparsing!=2.0.4,!=2.1.2,!=2.1.6,>=2.0.3 in c:\\users\\jan\\appdata\\local\\programs\\python\\python38\\lib\\site-packages (from matplotlib) (2.4.6)\n",
      "Requirement already satisfied: certifi>=2020.06.20 in c:\\users\\jan\\appdata\\local\\programs\\python\\python38\\lib\\site-packages (from matplotlib) (2020.6.20)\n",
      "Requirement already satisfied: beautifulsoup4 in c:\\users\\jan\\appdata\\local\\programs\\python\\python38\\lib\\site-packages (from bs4) (4.9.1)\n",
      "Requirement already satisfied: joblib>=0.11 in c:\\users\\jan\\appdata\\local\\programs\\python\\python38\\lib\\site-packages (from scikit-learn) (0.16.0)\n",
      "Requirement already satisfied: threadpoolctl>=2.0.0 in c:\\users\\jan\\appdata\\local\\programs\\python\\python38\\lib\\site-packages (from scikit-learn) (2.1.0)\n",
      "Requirement already satisfied: six>=1.5 in c:\\users\\jan\\appdata\\local\\programs\\python\\python38\\lib\\site-packages (from python-dateutil>=2.7.3->pandas) (1.14.0)\n",
      "Requirement already satisfied: soupsieve>1.2 in c:\\users\\jan\\appdata\\local\\programs\\python\\python38\\lib\\site-packages (from beautifulsoup4->bs4) (2.0.1)\n"
     ]
    }
   ],
   "source": [
    "!pip install seaborn numpy pandas matplotlib bs4 scikit-learn"
   ]
  },
  {
   "cell_type": "code",
   "execution_count": 2,
   "metadata": {},
   "outputs": [],
   "source": [
    "import torch\n",
    "import torch.nn as nn\n",
    "\n",
    "import seaborn as sns\n",
    "import numpy as np\n",
    "import pandas as pad\n",
    "import matplotlib.pyplot as plt\n",
    "\n",
    "%matplotlib inline"
   ]
  },
  {
   "cell_type": "code",
   "execution_count": 3,
   "metadata": {},
   "outputs": [
    {
     "name": "stderr",
     "output_type": "stream",
     "text": [
      "c:\\users\\jan\\appdata\\local\\programs\\python\\python38\\lib\\site-packages\\seaborn\\utils.py:384: GuessedAtParserWarning: No parser was explicitly specified, so I'm using the best available HTML parser for this system (\"html.parser\"). This usually isn't a problem, but if you run this code on another system, or in a different virtual environment, it may use a different parser and behave differently.\n",
      "\n",
      "The code that caused this warning is on line 384 of the file c:\\users\\jan\\appdata\\local\\programs\\python\\python38\\lib\\site-packages\\seaborn\\utils.py. To get rid of this warning, pass the additional argument 'features=\"html.parser\"' to the BeautifulSoup constructor.\n",
      "\n",
      "  gh_list = BeautifulSoup(http)\n"
     ]
    },
    {
     "data": {
      "text/plain": [
       "['anagrams',\n",
       " 'anscombe',\n",
       " 'attention',\n",
       " 'brain_networks',\n",
       " 'car_crashes',\n",
       " 'diamonds',\n",
       " 'dots',\n",
       " 'exercise',\n",
       " 'flights',\n",
       " 'fmri',\n",
       " 'gammas',\n",
       " 'geyser',\n",
       " 'iris',\n",
       " 'mpg',\n",
       " 'penguins',\n",
       " 'planets',\n",
       " 'tips',\n",
       " 'titanic']"
      ]
     },
     "execution_count": 3,
     "metadata": {},
     "output_type": "execute_result"
    }
   ],
   "source": [
    "sns.get_dataset_names()"
   ]
  },
  {
   "cell_type": "code",
   "execution_count": 4,
   "metadata": {},
   "outputs": [
    {
     "data": {
      "text/html": [
       "<div>\n",
       "<style scoped>\n",
       "    .dataframe tbody tr th:only-of-type {\n",
       "        vertical-align: middle;\n",
       "    }\n",
       "\n",
       "    .dataframe tbody tr th {\n",
       "        vertical-align: top;\n",
       "    }\n",
       "\n",
       "    .dataframe thead th {\n",
       "        text-align: right;\n",
       "    }\n",
       "</style>\n",
       "<table border=\"1\" class=\"dataframe\">\n",
       "  <thead>\n",
       "    <tr style=\"text-align: right;\">\n",
       "      <th></th>\n",
       "      <th>year</th>\n",
       "      <th>month</th>\n",
       "      <th>passengers</th>\n",
       "    </tr>\n",
       "  </thead>\n",
       "  <tbody>\n",
       "    <tr>\n",
       "      <th>0</th>\n",
       "      <td>1949</td>\n",
       "      <td>January</td>\n",
       "      <td>112</td>\n",
       "    </tr>\n",
       "    <tr>\n",
       "      <th>1</th>\n",
       "      <td>1949</td>\n",
       "      <td>February</td>\n",
       "      <td>118</td>\n",
       "    </tr>\n",
       "    <tr>\n",
       "      <th>2</th>\n",
       "      <td>1949</td>\n",
       "      <td>March</td>\n",
       "      <td>132</td>\n",
       "    </tr>\n",
       "    <tr>\n",
       "      <th>3</th>\n",
       "      <td>1949</td>\n",
       "      <td>April</td>\n",
       "      <td>129</td>\n",
       "    </tr>\n",
       "    <tr>\n",
       "      <th>4</th>\n",
       "      <td>1949</td>\n",
       "      <td>May</td>\n",
       "      <td>121</td>\n",
       "    </tr>\n",
       "  </tbody>\n",
       "</table>\n",
       "</div>"
      ],
      "text/plain": [
       "   year     month  passengers\n",
       "0  1949   January         112\n",
       "1  1949  February         118\n",
       "2  1949     March         132\n",
       "3  1949     April         129\n",
       "4  1949       May         121"
      ]
     },
     "execution_count": 4,
     "metadata": {},
     "output_type": "execute_result"
    }
   ],
   "source": [
    "flight_data = sns.load_dataset(\"flights\")\n",
    "flight_data.head()"
   ]
  },
  {
   "cell_type": "code",
   "execution_count": 5,
   "metadata": {},
   "outputs": [
    {
     "data": {
      "text/plain": [
       "(144, 3)"
      ]
     },
     "execution_count": 5,
     "metadata": {},
     "output_type": "execute_result"
    }
   ],
   "source": [
    "flight_data.shape"
   ]
  },
  {
   "cell_type": "code",
   "execution_count": 6,
   "metadata": {},
   "outputs": [],
   "source": [
    "fig_size = plt.rcParams[\"figure.figsize\"]\n",
    "fig_size[0] = 15\n",
    "fig_size[1] = 5\n",
    "plt.rcParams[\"figure.figsize\"] = fig_size"
   ]
  },
  {
   "cell_type": "code",
   "execution_count": 7,
   "metadata": {},
   "outputs": [
    {
     "data": {
      "text/plain": [
       "[<matplotlib.lines.Line2D at 0x1ffaf2e53a0>]"
      ]
     },
     "execution_count": 7,
     "metadata": {},
     "output_type": "execute_result"
    },
    {
     "data": {
      "image/png": "[encoded data removed]",
      "text/plain": [
       "<Figure size 1080x360 with 1 Axes>"
      ]
     },
     "metadata": {
      "needs_background": "light"
     },
     "output_type": "display_data"
    }
   ],
   "source": [
    "plt.title('Month vs Passenger')\n",
    "plt.ylabel('Total Passengers')\n",
    "plt.xlabel('Months')\n",
    "plt.grid(True)\n",
    "plt.autoscale(axis='x', tight=True)\n",
    "plt.plot(flight_data['passengers'])"
   ]
  },
  {
   "cell_type": "code",
   "execution_count": 8,
   "metadata": {},
   "outputs": [
    {
     "data": {
      "text/plain": [
       "Index(['year', 'month', 'passengers'], dtype='object')"
      ]
     },
     "execution_count": 8,
     "metadata": {},
     "output_type": "execute_result"
    }
   ],
   "source": [
    "flight_data.columns"
   ]
  },
  {
   "cell_type": "code",
   "execution_count": 9,
   "metadata": {},
   "outputs": [],
   "source": [
    "all_data = flight_data['passengers'].values.astype(float)"
   ]
  },
  {
   "cell_type": "code",
   "execution_count": 10,
   "metadata": {},
   "outputs": [
    {
     "name": "stdout",
     "output_type": "stream",
     "text": [
      "[112. 118. 132. 129. 121. 135. 148. 148. 136. 119. 104. 118. 115. 126.\n",
      " 141. 135. 125. 149. 170. 170. 158. 133. 114. 140. 145. 150. 178. 163.\n",
      " 172. 178. 199. 199. 184. 162. 146. 166. 171. 180. 193. 181. 183. 218.\n",
      " 230. 242. 209. 191. 172. 194. 196. 196. 236. 235. 229. 243. 264. 272.\n",
      " 237. 211. 180. 201. 204. 188. 235. 227. 234. 264. 302. 293. 259. 229.\n",
      " 203. 229. 242. 233. 267. 269. 270. 315. 364. 347. 312. 274. 237. 278.\n",
      " 284. 277. 317. 313. 318. 374. 413. 405. 355. 306. 271. 306. 315. 301.\n",
      " 356. 348. 355. 422. 465. 467. 404. 347. 305. 336. 340. 318. 362. 348.\n",
      " 363. 435. 491. 505. 404. 359. 310. 337. 360. 342. 406. 396. 420. 472.\n",
      " 548. 559. 463. 407. 362. 405. 417. 391. 419. 461. 472. 535. 622. 606.\n",
      " 508. 461. 390. 432.]\n"
     ]
    }
   ],
   "source": [
    "print(all_data)"
   ]
  },
  {
   "cell_type": "code",
   "execution_count": 11,
   "metadata": {},
   "outputs": [],
   "source": [
    "test_data_size = 12\n",
    "train_data = all_data[:-test_data_size]\n",
    "test_data = all_data[-test_data_size:]"
   ]
  },
  {
   "cell_type": "code",
   "execution_count": 12,
   "metadata": {},
   "outputs": [
    {
     "name": "stdout",
     "output_type": "stream",
     "text": [
      "132\n",
      "12\n"
     ]
    }
   ],
   "source": [
    "print(len(train_data))\n",
    "print(len(test_data))"
   ]
  },
  {
   "cell_type": "code",
   "execution_count": 13,
   "metadata": {},
   "outputs": [
    {
     "name": "stdout",
     "output_type": "stream",
     "text": [
      "[417. 391. 419. 461. 472. 535. 622. 606. 508. 461. 390. 432.]\n"
     ]
    }
   ],
   "source": [
    "print(test_data)"
   ]
  },
  {
   "cell_type": "code",
   "execution_count": 14,
   "metadata": {},
   "outputs": [],
   "source": [
    "from sklearn.preprocessing import MinMaxScaler\n",
    "\n",
    "scaler = MinMaxScaler(feature_range=(-1, 1))\n",
    "train_data_normalized = scaler.fit_transform(train_data.reshape(-1, 1))"
   ]
  },
  {
   "cell_type": "code",
   "execution_count": 15,
   "metadata": {},
   "outputs": [
    {
     "name": "stdout",
     "output_type": "stream",
     "text": [
      "[[-0.96483516]\n",
      " [-0.93846154]\n",
      " [-0.87692308]\n",
      " [-0.89010989]\n",
      " [-0.92527473]]\n",
      "[[1.        ]\n",
      " [0.57802198]\n",
      " [0.33186813]\n",
      " [0.13406593]\n",
      " [0.32307692]]\n"
     ]
    }
   ],
   "source": [
    "print(train_data_normalized[:5])\n",
    "print(train_data_normalized[-5:])"
   ]
  },
  {
   "cell_type": "code",
   "execution_count": 16,
   "metadata": {},
   "outputs": [],
   "source": [
    "train_data_normalized = torch.FloatTensor(train_data_normalized).view(-1)"
   ]
  },
  {
   "cell_type": "code",
   "execution_count": 17,
   "metadata": {},
   "outputs": [],
   "source": [
    "train_window = 12\n",
    "\n",
    "def create_inout_sequences(input_data, tw=train_window):\n",
    "    inout_seq = []\n",
    "    L = len(input_data)\n",
    "    for i in range(L - tw):\n",
    "        train_seq = input_data[i:i + tw]\n",
    "        train_label = input_data[i + tw:i + tw + 1]\n",
    "        inout_seq.append((train_seq, train_label))\n",
    "    return inout_seq"
   ]
  },
  {
   "cell_type": "code",
   "execution_count": 18,
   "metadata": {},
   "outputs": [],
   "source": [
    "train_inout_seq = create_inout_sequences(train_data_normalized)"
   ]
  },
  {
   "cell_type": "code",
   "execution_count": 19,
   "metadata": {},
   "outputs": [
    {
     "data": {
      "text/plain": [
       "[(tensor([-0.9648, -0.9385, -0.8769, -0.8901, -0.9253, -0.8637, -0.8066, -0.8066,\n",
       "          -0.8593, -0.9341, -1.0000, -0.9385]),\n",
       "  tensor([-0.9516])),\n",
       " (tensor([-0.9385, -0.8769, -0.8901, -0.9253, -0.8637, -0.8066, -0.8066, -0.8593,\n",
       "          -0.9341, -1.0000, -0.9385, -0.9516]),\n",
       "  tensor([-0.9033])),\n",
       " (tensor([-0.8769, -0.8901, -0.9253, -0.8637, -0.8066, -0.8066, -0.8593, -0.9341,\n",
       "          -1.0000, -0.9385, -0.9516, -0.9033]),\n",
       "  tensor([-0.8374])),\n",
       " (tensor([-0.8901, -0.9253, -0.8637, -0.8066, -0.8066, -0.8593, -0.9341, -1.0000,\n",
       "          -0.9385, -0.9516, -0.9033, -0.8374]),\n",
       "  tensor([-0.8637])),\n",
       " (tensor([-0.9253, -0.8637, -0.8066, -0.8066, -0.8593, -0.9341, -1.0000, -0.9385,\n",
       "          -0.9516, -0.9033, -0.8374, -0.8637]),\n",
       "  tensor([-0.9077]))]"
      ]
     },
     "execution_count": 19,
     "metadata": {},
     "output_type": "execute_result"
    }
   ],
   "source": [
    "train_inout_seq[:5]"
   ]
  },
  {
   "cell_type": "code",
   "execution_count": 20,
   "metadata": {},
   "outputs": [],
   "source": [
    "class LSTM(nn.Module):\n",
    "    def __init__(self, input_size=1, hidden_layer_size=100, output_size=1):\n",
    "        super().__init__()\n",
    "        \n",
    "        self.hidden_layer_size = hidden_layer_size\n",
    "        self.lstm = nn.LSTM(input_size, hidden_layer_size)\n",
    "        self.linear = nn.Linear(hidden_layer_size, output_size)\n",
    "        \n",
    "        self.hidden_cell = (torch.zeros(1, 1, self.hidden_layer_size),\n",
    "                            torch.zeros(1, 1, self.hidden_layer_size))\n",
    "    \n",
    "    def forward(self, input_seq):\n",
    "        model_input_seq = input_seq.view(len(input_seq), 1, -1)\n",
    "        \n",
    "        lstm_out, self.hidden_cell = self.lstm(model_input_seq, self.hidden_cell)\n",
    "        predictions = self.linear(lstm_out.view(len(input_seq), -1))\n",
    "        \n",
    "        return predictions[-1]"
   ]
  },
  {
   "cell_type": "code",
   "execution_count": 59,
   "metadata": {},
   "outputs": [],
   "source": [
    "device = 'cuda'\n",
    "\n",
    "model = LSTM().to(device)\n",
    "loss_function = nn.MSELoss().to(device)\n",
    "optimizer = torch.optim.Adam(model.parameters(), lr=0.001)"
   ]
  },
  {
   "cell_type": "code",
   "execution_count": 60,
   "metadata": {},
   "outputs": [
    {
     "name": "stdout",
     "output_type": "stream",
     "text": [
      "LSTM(\n",
      "  (lstm): LSTM(1, 100)\n",
      "  (linear): Linear(in_features=100, out_features=1, bias=True)\n",
      ")\n"
     ]
    }
   ],
   "source": [
    "print(model)"
   ]
  },
  {
   "cell_type": "code",
   "execution_count": 61,
   "metadata": {
    "collapsed": true,
    "jupyter": {
     "outputs_hidden": true
    }
   },
   "outputs": [
    {
     "name": "stdout",
     "output_type": "stream",
     "text": [
      "epoch:   1 loss: 0.00182079\n",
      "epoch:  26 loss: 0.00658555\n",
      "epoch:  51 loss: 0.00015273\n",
      "epoch:  76 loss: 0.01880293\n",
      "epoch: 101 loss: 0.01567977\n",
      "epoch: 126 loss: 0.00012998\n",
      "epoch: 151 loss: 0.00053022\n",
      "epoch: 176 loss: 0.03167699\n",
      "epoch: 201 loss: 0.00063273\n",
      "epoch: 226 loss: 0.00124417\n",
      "epoch: 251 loss: 0.00120420\n",
      "epoch: 276 loss: 0.00011916\n",
      "epoch: 301 loss: 0.00003387\n",
      "epoch: 326 loss: 0.00000760\n",
      "epoch: 351 loss: 0.00131731\n",
      "epoch: 376 loss: 0.00010770\n",
      "epoch: 401 loss: 0.00098291\n",
      "epoch: 426 loss: 0.00049966\n",
      "epoch: 451 loss: 0.00008964\n",
      "epoch: 476 loss: 0.00005655\n",
      "epoch: 501 loss: 0.00054649\n",
      "epoch: 526 loss: 0.00021275\n",
      "epoch: 551 loss: 0.00001445\n",
      "epoch: 576 loss: 0.00007991\n",
      "epoch: 601 loss: 0.00000067\n",
      "epoch: 626 loss: 0.00000483\n",
      "epoch: 651 loss: 0.00007551\n",
      "epoch: 676 loss: 0.00026457\n",
      "epoch: 701 loss: 0.00041967\n",
      "epoch: 726 loss: 0.00001569\n",
      "epoch: 751 loss: 0.00002126\n",
      "epoch: 776 loss: 0.00003135\n",
      "epoch: 801 loss: 0.00070220\n",
      "epoch: 826 loss: 0.00002025\n",
      "epoch: 851 loss: 0.00006447\n",
      "epoch: 876 loss: 0.00042283\n",
      "epoch: 901 loss: 0.00000086\n",
      "epoch: 926 loss: 0.00001124\n",
      "epoch: 951 loss: 0.00000113\n",
      "epoch: 976 loss: 0.00021290\n",
      "epoch: 1001 loss: 0.00000700\n",
      "epoch: 1026 loss: 0.00000004\n",
      "epoch: 1051 loss: 0.00002880\n",
      "epoch: 1076 loss: 0.00000135\n",
      "epoch: 1101 loss: 0.00004556\n",
      "epoch: 1126 loss: 0.00001369\n",
      "epoch: 1151 loss: 0.00026054\n",
      "epoch: 1176 loss: 0.00000148\n",
      "epoch: 1201 loss: 0.00008998\n",
      "epoch: 1226 loss: 0.00015802\n",
      "epoch: 1251 loss: 0.00003314\n",
      "epoch: 1276 loss: 0.00002869\n",
      "epoch: 1301 loss: 0.00003197\n",
      "epoch: 1326 loss: 0.00003247\n",
      "epoch: 1351 loss: 0.00000014\n",
      "epoch: 1376 loss: 0.00000864\n",
      "epoch: 1401 loss: 0.00007130\n",
      "epoch: 1426 loss: 0.00002551\n",
      "epoch: 1451 loss: 0.00003063\n",
      "epoch: 1476 loss: 0.00001396\n",
      "epoch: 1501 loss: 0.00034968\n",
      "epoch: 1526 loss: 0.00005612\n",
      "epoch: 1551 loss: 0.00017615\n",
      "epoch: 1576 loss: 0.00018969\n",
      "epoch: 1601 loss: 0.00005436\n",
      "epoch: 1626 loss: 0.00000037\n",
      "epoch: 1651 loss: 0.00002205\n",
      "epoch: 1676 loss: 0.00003658\n",
      "epoch: 1701 loss: 0.00000009\n",
      "epoch: 1726 loss: 0.00023807\n",
      "epoch: 1751 loss: 0.00050144\n",
      "epoch: 1776 loss: 0.00025757\n",
      "epoch: 1801 loss: 0.00002842\n",
      "epoch: 1826 loss: 0.00005395\n",
      "epoch: 1851 loss: 0.00030530\n",
      "epoch: 1876 loss: 0.00011857\n",
      "epoch: 1901 loss: 0.00000935\n",
      "epoch: 1926 loss: 0.00035423\n",
      "epoch: 1951 loss: 0.00003886\n",
      "epoch: 1976 loss: 0.00006176\n",
      "epoch: 2001 loss: 0.00007241\n",
      "epoch: 2026 loss: 0.00003980\n",
      "epoch: 2051 loss: 0.00006820\n",
      "epoch: 2076 loss: 0.00005101\n",
      "epoch: 2101 loss: 0.00004289\n",
      "epoch: 2126 loss: 0.00002250\n",
      "epoch: 2151 loss: 0.00000116\n",
      "epoch: 2176 loss: 0.00000106\n",
      "epoch: 2201 loss: 0.00003102\n",
      "epoch: 2226 loss: 0.00003389\n",
      "epoch: 2251 loss: 0.00000000\n",
      "epoch: 2276 loss: 0.00008880\n",
      "epoch: 2301 loss: 0.00000574\n",
      "epoch: 2326 loss: 0.00041102\n",
      "epoch: 2351 loss: 0.00001825\n",
      "epoch: 2376 loss: 0.00106433\n",
      "epoch: 2401 loss: 0.00000143\n",
      "epoch: 2426 loss: 0.00006553\n",
      "epoch: 2451 loss: 0.00000202\n",
      "epoch: 2476 loss: 0.00000720\n",
      "epoch: 2501 loss: 0.00000241\n",
      "epoch: 2526 loss: 0.00056932\n",
      "epoch: 2551 loss: 0.00003649\n",
      "epoch: 2576 loss: 0.00015520\n",
      "epoch: 2601 loss: 0.00003139\n",
      "epoch: 2626 loss: 0.00000247\n",
      "epoch: 2651 loss: 0.00000266\n",
      "epoch: 2676 loss: 0.00003032\n",
      "epoch: 2701 loss: 0.00000666\n",
      "epoch: 2726 loss: 0.00000764\n",
      "epoch: 2751 loss: 0.00056882\n",
      "epoch: 2776 loss: 0.00003444\n",
      "epoch: 2801 loss: 0.00002896\n",
      "epoch: 2826 loss: 0.00002712\n",
      "epoch: 2851 loss: 0.00001598\n",
      "epoch: 2876 loss: 0.00000578\n",
      "epoch: 2901 loss: 0.00000127\n",
      "epoch: 2926 loss: 0.00000378\n",
      "epoch: 2951 loss: 0.00004707\n",
      "epoch: 2976 loss: 0.00000273\n",
      "epoch: 3001 loss: 0.00009024\n",
      "epoch: 3026 loss: 0.00000029\n",
      "epoch: 3051 loss: 0.00002716\n",
      "epoch: 3076 loss: 0.00040630\n",
      "epoch: 3101 loss: 0.00001158\n",
      "epoch: 3126 loss: 0.00031003\n",
      "epoch: 3151 loss: 0.00024521\n",
      "epoch: 3176 loss: 0.00024076\n",
      "epoch: 3201 loss: 0.00000628\n",
      "epoch: 3226 loss: 0.00000262\n",
      "epoch: 3251 loss: 0.00008734\n",
      "epoch: 3276 loss: 0.00000052\n",
      "epoch: 3301 loss: 0.00009347\n",
      "epoch: 3326 loss: 0.00001157\n",
      "epoch: 3351 loss: 0.00000183\n",
      "epoch: 3376 loss: 0.00006721\n",
      "epoch: 3401 loss: 0.00000005\n",
      "epoch: 3426 loss: 0.00000627\n",
      "epoch: 3451 loss: 0.00000710\n",
      "epoch: 3476 loss: 0.00003588\n",
      "epoch: 3501 loss: 0.00000732\n",
      "epoch: 3526 loss: 0.00000007\n",
      "epoch: 3551 loss: 0.00000958\n",
      "epoch: 3576 loss: 0.00000474\n",
      "epoch: 3601 loss: 0.00003083\n",
      "epoch: 3626 loss: 0.00000689\n",
      "epoch: 3651 loss: 0.00009385\n",
      "epoch: 3676 loss: 0.00004804\n",
      "epoch: 3701 loss: 0.00001554\n",
      "epoch: 3726 loss: 0.00001451\n",
      "epoch: 3751 loss: 0.00000256\n",
      "epoch: 3776 loss: 0.00000003\n",
      "epoch: 3801 loss: 0.00001040\n",
      "epoch: 3826 loss: 0.00000911\n",
      "epoch: 3851 loss: 0.00014790\n",
      "epoch: 3876 loss: 0.00015825\n",
      "epoch: 3901 loss: 0.00003275\n",
      "epoch: 3926 loss: 0.00018246\n",
      "epoch: 3951 loss: 0.00008828\n",
      "epoch: 3976 loss: 0.00006645\n",
      "epoch: 4001 loss: 0.00001615\n",
      "epoch: 4026 loss: 0.00005467\n",
      "epoch: 4051 loss: 0.00002425\n",
      "epoch: 4076 loss: 0.00000402\n",
      "epoch: 4101 loss: 0.00002840\n",
      "epoch: 4126 loss: 0.00009142\n",
      "epoch: 4151 loss: 0.00000001\n",
      "epoch: 4176 loss: 0.00009842\n",
      "epoch: 4201 loss: 0.00000085\n",
      "epoch: 4226 loss: 0.00000024\n",
      "epoch: 4251 loss: 0.00003336\n",
      "epoch: 4276 loss: 0.00000098\n",
      "epoch: 4301 loss: 0.00000000\n",
      "epoch: 4326 loss: 0.00000031\n",
      "epoch: 4351 loss: 0.00009006\n",
      "epoch: 4376 loss: 0.00002212\n",
      "epoch: 4401 loss: 0.00000004\n",
      "epoch: 4426 loss: 0.00001001\n",
      "epoch: 4451 loss: 0.00002290\n",
      "epoch: 4476 loss: 0.00062289\n",
      "epoch: 4501 loss: 0.00007404\n",
      "epoch: 4526 loss: 0.00027118\n",
      "epoch: 4551 loss: 0.00000073\n",
      "epoch: 4576 loss: 0.00000000\n",
      "epoch: 4601 loss: 0.00036417\n",
      "epoch: 4626 loss: 0.00004908\n",
      "epoch: 4651 loss: 0.00009533\n",
      "epoch: 4676 loss: 0.00000016\n",
      "epoch: 4701 loss: 0.00004235\n",
      "epoch: 4726 loss: 0.00000004\n",
      "epoch: 4751 loss: 0.00002325\n",
      "epoch: 4776 loss: 0.00000184\n",
      "epoch: 4801 loss: 0.00001596\n",
      "epoch: 4826 loss: 0.00000183\n",
      "epoch: 4851 loss: 0.00007373\n",
      "epoch: 4876 loss: 0.00002323\n",
      "epoch: 4901 loss: 0.00001107\n",
      "epoch: 4926 loss: 0.00003942\n",
      "epoch: 4951 loss: 0.00000069\n",
      "epoch: 4976 loss: 0.00000084\n",
      "epoch: 5001 loss: 0.00021802\n",
      "epoch: 5026 loss: 0.00001476\n",
      "epoch: 5051 loss: 0.00002761\n",
      "epoch: 5076 loss: 0.00000012\n",
      "epoch: 5101 loss: 0.00003460\n",
      "epoch: 5126 loss: 0.00002781\n",
      "epoch: 5151 loss: 0.00000201\n",
      "epoch: 5176 loss: 0.00003208\n",
      "epoch: 5201 loss: 0.00000010\n",
      "epoch: 5226 loss: 0.00002135\n",
      "epoch: 5251 loss: 0.00006466\n",
      "epoch: 5276 loss: 0.00002799\n",
      "epoch: 5301 loss: 0.00005015\n",
      "epoch: 5326 loss: 0.00000488\n",
      "epoch: 5351 loss: 0.00004137\n",
      "epoch: 5376 loss: 0.00007373\n",
      "epoch: 5401 loss: 0.00000315\n",
      "epoch: 5426 loss: 0.00003818\n",
      "epoch: 5451 loss: 0.00022601\n",
      "epoch: 5476 loss: 0.00000897\n",
      "epoch: 5501 loss: 0.00000946\n",
      "epoch: 5526 loss: 0.00000283\n",
      "epoch: 5551 loss: 0.00004125\n",
      "epoch: 5576 loss: 0.00000052\n",
      "epoch: 5601 loss: 0.00001741\n",
      "epoch: 5626 loss: 0.00014287\n",
      "epoch: 5651 loss: 0.00000552\n",
      "epoch: 5676 loss: 0.00010521\n",
      "epoch: 5701 loss: 0.00007981\n",
      "epoch: 5726 loss: 0.00000050\n",
      "epoch: 5751 loss: 0.00002363\n",
      "epoch: 5776 loss: 0.00086260\n",
      "epoch: 5801 loss: 0.00005566\n",
      "epoch: 5826 loss: 0.00001030\n",
      "epoch: 5851 loss: 0.00003082\n",
      "epoch: 5876 loss: 0.00000071\n",
      "epoch: 5901 loss: 0.00002610\n",
      "epoch: 5926 loss: 0.00011175\n",
      "epoch: 5951 loss: 0.00000344\n",
      "epoch: 5976 loss: 0.00003887\n",
      "epoch: 6001 loss: 0.00038681\n",
      "epoch: 6026 loss: 0.00000142\n",
      "epoch: 6051 loss: 0.00002054\n",
      "epoch: 6076 loss: 0.00000268\n",
      "epoch: 6101 loss: 0.00002375\n",
      "epoch: 6126 loss: 0.00001022\n",
      "epoch: 6151 loss: 0.00001839\n",
      "epoch: 6176 loss: 0.00008763\n",
      "epoch: 6201 loss: 0.00000289\n",
      "epoch: 6226 loss: 0.00024908\n",
      "epoch: 6251 loss: 0.00001384\n",
      "epoch: 6276 loss: 0.00000000\n",
      "epoch: 6301 loss: 0.00000012\n",
      "epoch: 6326 loss: 0.00002377\n",
      "epoch: 6351 loss: 0.00016143\n",
      "epoch: 6376 loss: 0.00000028\n",
      "epoch: 6401 loss: 0.00003174\n",
      "epoch: 6426 loss: 0.00010857\n",
      "epoch: 6451 loss: 0.00001038\n",
      "epoch: 6476 loss: 0.00001060\n",
      "epoch: 6501 loss: 0.00000939\n",
      "epoch: 6526 loss: 0.00000000\n",
      "epoch: 6551 loss: 0.00004203\n",
      "epoch: 6576 loss: 0.00002860\n",
      "epoch: 6601 loss: 0.00042866\n",
      "epoch: 6626 loss: 0.00005199\n",
      "epoch: 6651 loss: 0.00000072\n",
      "epoch: 6676 loss: 0.00003028\n",
      "epoch: 6701 loss: 0.00001459\n",
      "epoch: 6726 loss: 0.00019226\n",
      "epoch: 6751 loss: 0.00006650\n",
      "epoch: 6776 loss: 0.00000353\n",
      "epoch: 6801 loss: 0.00000031\n",
      "epoch: 6826 loss: 0.00005233\n",
      "epoch: 6851 loss: 0.00011638\n",
      "epoch: 6876 loss: 0.00000409\n",
      "epoch: 6901 loss: 0.00000000\n",
      "epoch: 6926 loss: 0.00002169\n",
      "epoch: 6951 loss: 0.00001804\n",
      "epoch: 6976 loss: 0.00000014\n",
      "epoch: 7001 loss: 0.00000592\n",
      "epoch: 7026 loss: 0.00000348\n",
      "epoch: 7051 loss: 0.00053926\n",
      "epoch: 7076 loss: 0.00004895\n",
      "epoch: 7101 loss: 0.00000011\n",
      "epoch: 7126 loss: 0.00001139\n",
      "epoch: 7151 loss: 0.00000001\n",
      "epoch: 7176 loss: 0.00000023\n",
      "epoch: 7201 loss: 0.00026851\n",
      "epoch: 7226 loss: 0.00000913\n",
      "epoch: 7251 loss: 0.00001669\n",
      "epoch: 7276 loss: 0.00008035\n",
      "epoch: 7301 loss: 0.00016883\n",
      "epoch: 7326 loss: 0.00002502\n",
      "epoch: 7351 loss: 0.00000005\n",
      "epoch: 7376 loss: 0.00000006\n",
      "epoch: 7401 loss: 0.00000039\n",
      "epoch: 7426 loss: 0.00000090\n",
      "epoch: 7451 loss: 0.00000022\n",
      "epoch: 7476 loss: 0.00017067\n",
      "epoch: 7501 loss: 0.00013324\n",
      "epoch: 7526 loss: 0.00000316\n",
      "epoch: 7551 loss: 0.00000040\n",
      "epoch: 7576 loss: 0.00000877\n",
      "epoch: 7601 loss: 0.00005585\n",
      "epoch: 7626 loss: 0.00000549\n",
      "epoch: 7651 loss: 0.00000067\n",
      "epoch: 7676 loss: 0.00001833\n",
      "epoch: 7701 loss: 0.00000171\n",
      "epoch: 7726 loss: 0.00000669\n",
      "epoch: 7751 loss: 0.00002500\n",
      "epoch: 7776 loss: 0.00000975\n",
      "epoch: 7801 loss: 0.00000780\n",
      "epoch: 7826 loss: 0.00002522\n",
      "epoch: 7851 loss: 0.00000749\n",
      "epoch: 7876 loss: 0.00000504\n",
      "epoch: 7901 loss: 0.00027629\n",
      "epoch: 7926 loss: 0.00001226\n",
      "epoch: 7951 loss: 0.00003428\n",
      "epoch: 7976 loss: 0.00000419\n",
      "epoch: 8001 loss: 0.00000238\n",
      "epoch: 8026 loss: 0.00000098\n",
      "epoch: 8051 loss: 0.00010469\n",
      "epoch: 8076 loss: 0.00000083\n",
      "epoch: 8101 loss: 0.00000718\n",
      "epoch: 8126 loss: 0.00003072\n",
      "epoch: 8151 loss: 0.00042388\n",
      "epoch: 8176 loss: 0.00002237\n",
      "epoch: 8201 loss: 0.00000341\n",
      "epoch: 8226 loss: 0.00001765\n",
      "epoch: 8251 loss: 0.00000496\n",
      "epoch: 8276 loss: 0.00002525\n",
      "epoch: 8301 loss: 0.00003879\n",
      "epoch: 8326 loss: 0.00006825\n",
      "epoch: 8351 loss: 0.00004158\n",
      "epoch: 8376 loss: 0.00000001\n",
      "epoch: 8401 loss: 0.00011050\n",
      "epoch: 8426 loss: 0.00000161\n",
      "epoch: 8451 loss: 0.00000249\n",
      "epoch: 8476 loss: 0.00000300\n",
      "epoch: 8501 loss: 0.00000310\n",
      "epoch: 8526 loss: 0.00002270\n",
      "epoch: 8551 loss: 0.00000271\n",
      "epoch: 8576 loss: 0.00001869\n",
      "epoch: 8601 loss: 0.00000108\n",
      "epoch: 8626 loss: 0.00000301\n",
      "epoch: 8651 loss: 0.00002172\n",
      "epoch: 8676 loss: 0.00000040\n",
      "epoch: 8701 loss: 0.00000347\n",
      "epoch: 8726 loss: 0.00011789\n",
      "epoch: 8751 loss: 0.00006159\n",
      "epoch: 8776 loss: 0.00000440\n",
      "epoch: 8801 loss: 0.00000178\n",
      "epoch: 8826 loss: 0.00008075\n",
      "epoch: 8851 loss: 0.00001261\n",
      "epoch: 8876 loss: 0.00000042\n",
      "epoch: 8901 loss: 0.00020380\n",
      "epoch: 8926 loss: 0.00006926\n",
      "epoch: 8951 loss: 0.00017967\n",
      "epoch: 8976 loss: 0.00000300\n",
      "epoch: 9001 loss: 0.00000104\n",
      "epoch: 9026 loss: 0.00000701\n",
      "epoch: 9051 loss: 0.00003339\n",
      "epoch: 9076 loss: 0.00000002\n",
      "epoch: 9101 loss: 0.00002315\n",
      "epoch: 9126 loss: 0.00000576\n",
      "epoch: 9151 loss: 0.00005759\n",
      "epoch: 9176 loss: 0.00001997\n",
      "epoch: 9201 loss: 0.00008186\n",
      "epoch: 9226 loss: 0.00000007\n",
      "epoch: 9251 loss: 0.00000737\n",
      "epoch: 9276 loss: 0.00001586\n",
      "epoch: 9301 loss: 0.00022318\n",
      "epoch: 9326 loss: 0.00002014\n",
      "epoch: 9351 loss: 0.00095547\n",
      "epoch: 9376 loss: 0.00000023\n",
      "epoch: 9401 loss: 0.00000501\n",
      "epoch: 9426 loss: 0.00002683\n",
      "epoch: 9451 loss: 0.00000711\n",
      "epoch: 9476 loss: 0.00002643\n",
      "epoch: 9501 loss: 0.00004877\n",
      "epoch: 9526 loss: 0.00006351\n",
      "epoch: 9551 loss: 0.00004416\n",
      "epoch: 9576 loss: 0.00000262\n",
      "epoch: 9601 loss: 0.00006015\n",
      "epoch: 9626 loss: 0.00008550\n",
      "epoch: 9651 loss: 0.00006096\n",
      "epoch: 9676 loss: 0.00001357\n",
      "epoch: 9701 loss: 0.00000006\n",
      "epoch: 9726 loss: 0.00000105\n",
      "epoch: 9751 loss: 0.00003003\n",
      "epoch: 9776 loss: 0.00000080\n",
      "epoch: 9801 loss: 0.00002717\n",
      "epoch: 9826 loss: 0.00000807\n",
      "epoch: 9851 loss: 0.00000041\n",
      "epoch: 9876 loss: 0.00021518\n",
      "epoch: 9901 loss: 0.00000121\n",
      "epoch: 9926 loss: 0.00000144\n",
      "epoch: 9951 loss: 0.00000100\n",
      "epoch: 9976 loss: 0.00000111\n",
      "epoch: 9999 loss: 0.0000012330\n"
     ]
    }
   ],
   "source": [
    "epochs = 10000\n",
    "\n",
    "for i in range(epochs):\n",
    "    for seq, labels in train_inout_seq:\n",
    "        optimizer.zero_grad()\n",
    "        model.hidden_cell = (torch.zeros(1, 1, model.hidden_layer_size).to(device),\n",
    "                        torch.zeros(1, 1, model.hidden_layer_size).to(device))\n",
    "\n",
    "        y_pred = model(seq.to(device))\n",
    "\n",
    "        single_loss = loss_function(y_pred.cpu(), labels)\n",
    "        single_loss.backward()\n",
    "        optimizer.step()\n",
    "\n",
    "    if i%25 == 1:\n",
    "        print(f'epoch: {i:3} loss: {single_loss.item():10.8f}')\n",
    "\n",
    "print(f'epoch: {i:3} loss: {single_loss.item():10.10f}')"
   ]
  },
  {
   "cell_type": "code",
   "execution_count": 68,
   "metadata": {},
   "outputs": [
    {
     "name": "stdout",
     "output_type": "stream",
     "text": [
      "[0.12527473270893097, 0.04615384712815285, 0.3274725377559662, 0.2835164964199066, 0.3890109956264496, 0.6175824403762817, 0.9516483545303345, 1.0, 0.5780220031738281, 0.33186814188957214, 0.13406594097614288, 0.32307693362236023]\n"
     ]
    }
   ],
   "source": [
    "fut_pred = 12\n",
    "\n",
    "test_inputs = train_data_normalized[-train_window:].tolist()\n",
    "print(test_inputs)"
   ]
  },
  {
   "cell_type": "code",
   "execution_count": 69,
   "metadata": {},
   "outputs": [],
   "source": [
    "model.eval()\n",
    "\n",
    "for i in range(fut_pred):\n",
    "    seq = torch.FloatTensor(test_inputs[-train_window:]).to(device)\n",
    "    with torch.no_grad():\n",
    "        model.hidden = (torch.zeros(1, 1, model.hidden_layer_size).to(device),\n",
    "                        torch.zeros(1, 1, model.hidden_layer_size).to(device))\n",
    "        test_inputs.append(model(seq).item())"
   ]
  },
  {
   "cell_type": "code",
   "execution_count": 70,
   "metadata": {},
   "outputs": [
    {
     "data": {
      "text/plain": [
       "[0.4850635230541229,\n",
       " 0.16486264765262604,\n",
       " 0.1630132794380188,\n",
       " 0.2708468735218048,\n",
       " 0.47786378860473633,\n",
       " 0.7284061908721924,\n",
       " 1.042277455329895,\n",
       " 0.7232682704925537,\n",
       " 0.5861715078353882,\n",
       " 0.7164361476898193,\n",
       " 1.1967566013336182,\n",
       " 1.1478300094604492]"
      ]
     },
     "execution_count": 70,
     "metadata": {},
     "output_type": "execute_result"
    }
   ],
   "source": [
    "test_inputs[fut_pred:]"
   ]
  },
  {
   "cell_type": "code",
   "execution_count": 71,
   "metadata": {},
   "outputs": [
    {
     "name": "stdout",
     "output_type": "stream",
     "text": [
      "[[441.85195149]\n",
      " [369.00625234]\n",
      " [368.58552107]\n",
      " [393.11766373]\n",
      " [440.21401191]\n",
      " [497.21240842]\n",
      " [568.61812109]\n",
      " [496.04353154]\n",
      " [464.85401803]\n",
      " [494.4892236 ]\n",
      " [603.7621268 ]\n",
      " [592.63132715]]\n"
     ]
    }
   ],
   "source": [
    "actual_predictions = scaler.inverse_transform(np.array(test_inputs[train_window:] ).reshape(-1, 1))\n",
    "print(actual_predictions)"
   ]
  },
  {
   "cell_type": "code",
   "execution_count": 72,
   "metadata": {},
   "outputs": [
    {
     "name": "stdout",
     "output_type": "stream",
     "text": [
      "[132 133 134 135 136 137 138 139 140 141 142 143]\n"
     ]
    }
   ],
   "source": [
    "x = np.arange(132, 144, 1)\n",
    "print(x)"
   ]
  },
  {
   "cell_type": "code",
   "execution_count": 73,
   "metadata": {},
   "outputs": [
    {
     "data": {
      "image/png": "[encoded data removed]",
      "text/plain": [
       "<Figure size 1080x360 with 1 Axes>"
      ]
     },
     "metadata": {
      "needs_background": "light"
     },
     "output_type": "display_data"
    }
   ],
   "source": [
    "plt.title('Month vs Passenger')\n",
    "plt.ylabel('Total Passengers')\n",
    "plt.grid(True)\n",
    "plt.autoscale(axis='x', tight=True)\n",
    "plt.plot(flight_data['passengers'])\n",
    "plt.plot(x,actual_predictions)\n",
    "plt.show()"
   ]
  },
  {
   "cell_type": "code",
   "execution_count": 80,
   "metadata": {},
   "outputs": [
    {
     "ename": "ValueError",
     "evalue": "too many values to unpack (expected 2)",
     "output_type": "error",
     "traceback": [
      "\u001b[1;31m---------------------------------------------------------------------------\u001b[0m",
      "\u001b[1;31mValueError\u001b[0m                                Traceback (most recent call last)",
      "\u001b[1;32m<ipython-input-80-04ecc9589deb>\u001b[0m in \u001b[0;36m<module>\u001b[1;34m\u001b[0m\n\u001b[0;32m     79\u001b[0m     \u001b[0mplt\u001b[0m\u001b[1;33m.\u001b[0m\u001b[0mshow\u001b[0m\u001b[1;33m(\u001b[0m\u001b[1;33m)\u001b[0m\u001b[1;33m\u001b[0m\u001b[1;33m\u001b[0m\u001b[0m\n\u001b[0;32m     80\u001b[0m \u001b[1;33m\u001b[0m\u001b[0m\n\u001b[1;32m---> 81\u001b[1;33m \u001b[0mmodel\u001b[0m \u001b[1;33m=\u001b[0m \u001b[0mbuild_model\u001b[0m\u001b[1;33m(\u001b[0m\u001b[1;33m)\u001b[0m\u001b[1;33m\u001b[0m\u001b[1;33m\u001b[0m\u001b[0m\n\u001b[0m\u001b[0;32m     82\u001b[0m \u001b[0mvalidate_model\u001b[0m\u001b[1;33m(\u001b[0m\u001b[0mmodel\u001b[0m\u001b[1;33m)\u001b[0m\u001b[1;33m\u001b[0m\u001b[1;33m\u001b[0m\u001b[0m\n",
      "\u001b[1;32m<ipython-input-80-04ecc9589deb>\u001b[0m in \u001b[0;36mbuild_model\u001b[1;34m(epochs)\u001b[0m\n\u001b[0;32m     33\u001b[0m             model.hidden_cell = (torch.zeros(batch_size, 1, model.hidden_layer_size).to(device),\n\u001b[0;32m     34\u001b[0m                             torch.zeros(batch_size, 1, model.hidden_layer_size).to(device))\n\u001b[1;32m---> 35\u001b[1;33m             \u001b[0mseq\u001b[0m\u001b[1;33m,\u001b[0m \u001b[0mlabels\u001b[0m \u001b[1;33m=\u001b[0m \u001b[0mtrain_inout_seq\u001b[0m\u001b[1;33m[\u001b[0m\u001b[0mix\u001b[0m\u001b[1;33m:\u001b[0m\u001b[0mix\u001b[0m\u001b[1;33m+\u001b[0m\u001b[0mbatch_size\u001b[0m\u001b[1;33m]\u001b[0m\u001b[1;33m\u001b[0m\u001b[1;33m\u001b[0m\u001b[0m\n\u001b[0m\u001b[0;32m     36\u001b[0m             \u001b[0my_pred\u001b[0m \u001b[1;33m=\u001b[0m \u001b[0mmodel\u001b[0m\u001b[1;33m(\u001b[0m\u001b[0mseq\u001b[0m\u001b[1;33m.\u001b[0m\u001b[0mto\u001b[0m\u001b[1;33m(\u001b[0m\u001b[0mdevice\u001b[0m\u001b[1;33m)\u001b[0m\u001b[1;33m)\u001b[0m\u001b[1;33m\u001b[0m\u001b[1;33m\u001b[0m\u001b[0m\n\u001b[0;32m     37\u001b[0m \u001b[1;33m\u001b[0m\u001b[0m\n",
      "\u001b[1;31mValueError\u001b[0m: too many values to unpack (expected 2)"
     ]
    }
   ],
   "source": [
    "class LSTM(nn.Module):\n",
    "    def __init__(self, input_size=1, hidden_layer_size=100, output_size=1):\n",
    "        super().__init__()\n",
    "        \n",
    "        self.hidden_layer_size = hidden_layer_size\n",
    "        self.lstm = nn.LSTM(input_size, hidden_layer_size)\n",
    "        self.linear = nn.Linear(hidden_layer_size, output_size)\n",
    "        \n",
    "        self.hidden_cell = (torch.zeros(1, 1, self.hidden_layer_size),\n",
    "                            torch.zeros(1, 1, self.hidden_layer_size))\n",
    "    \n",
    "    def forward(self, input_seq):\n",
    "        model_input_seq = input_seq.view(len(input_seq), 1, -1)\n",
    "        \n",
    "        lstm_out, self.hidden_cell = self.lstm(model_input_seq, self.hidden_cell)\n",
    "        predictions = self.linear(lstm_out.view(len(input_seq), -1))\n",
    "        \n",
    "        return predictions[-1]\n",
    "\n",
    "def build_model(epochs=100):\n",
    "    device = 'cuda'\n",
    "\n",
    "    model = LSTM().to(device)\n",
    "    loss_function = nn.MSELoss().to(device)\n",
    "    optimizer = torch.optim.Adam(model.parameters(), lr=0.001)\n",
    "    batch_size = 8\n",
    "\n",
    "    for i in range(epochs):\n",
    "        for ix in range(0, len(train_inout_seq), batch_size):\n",
    "            \n",
    "            \n",
    "            optimizer.zero_grad()\n",
    "            model.hidden_cell = (torch.zeros(batch_size, 1, model.hidden_layer_size).to(device),\n",
    "                            torch.zeros(batch_size, 1, model.hidden_layer_size).to(device))\n",
    "            \n",
    "            for sub_ix in range(batch_size):\n",
    "                \n",
    "            seq, labels = train_inout_seq[ix:ix+batch_size]\n",
    "            y_pred = model(seq.to(device))\n",
    "\n",
    "            single_loss = loss_function(y_pred.cpu(), labels)\n",
    "            single_loss.backward()\n",
    "            optimizer.step()\n",
    "\n",
    "        if i%25 == 1:\n",
    "            print(f'epoch: {i:3} loss: {single_loss.item():10.8f}')\n",
    "\n",
    "    print(f'epoch: {i:3} loss: {single_loss.item():10.10f}')\n",
    "    \n",
    "    return model\n",
    "\n",
    "\n",
    "def validate_model(model):\n",
    "    fut_pred = 12\n",
    "\n",
    "    test_inputs = train_data_normalized[-train_window:].tolist()\n",
    "    print(test_inputs)\n",
    "    \n",
    "    model.eval()\n",
    "\n",
    "    for i in range(fut_pred):\n",
    "        seq = torch.FloatTensor(test_inputs[-train_window:]).to(device)\n",
    "        with torch.no_grad():\n",
    "            model.hidden = (torch.zeros(1, 1, model.hidden_layer_size).to(device),\n",
    "                            torch.zeros(1, 1, model.hidden_layer_size).to(device))\n",
    "            test_inputs.append(model(seq).item())\n",
    "    \n",
    "    test_inputs[fut_pred:]\n",
    "    \n",
    "    actual_predictions = scaler.inverse_transform(np.array(test_inputs[train_window:] ).reshape(-1, 1))\n",
    "    print(actual_predictions)\n",
    "    \n",
    "    x = np.arange(132, 144, 1)\n",
    "    print(x)\n",
    "    \n",
    "    plt.title('Month vs Passenger')\n",
    "    plt.ylabel('Total Passengers')\n",
    "    plt.grid(True)\n",
    "    plt.autoscale(axis='x', tight=True)\n",
    "    plt.plot(flight_data['passengers'])\n",
    "    plt.plot(x,actual_predictions)\n",
    "    plt.show()\n",
    "\n",
    "model = build_model()\n",
    "validate_model(model)"
   ]
  },
  {
   "cell_type": "code",
   "execution_count": 79,
   "metadata": {},
   "outputs": [
    {
     "data": {
      "text/plain": [
       "[0, 8, 16, 24, 32, 40, 48]"
      ]
     },
     "execution_count": 79,
     "metadata": {},
     "output_type": "execute_result"
    }
   ],
   "source": [
    "[*range(0, 50, 8)]"
   ]
  },
  {
   "cell_type": "code",
   "execution_count": null,
   "metadata": {},
   "outputs": [],
   "source": []
  }
 ],
 "metadata": {
  "kernelspec": {
   "display_name": "Python 3",
   "language": "python",
   "name": "python3"
  },
  "language_info": {
   "codemirror_mode": {
    "name": "ipython",
    "version": 3
   },
   "file_extension": ".py",
   "mimetype": "text/x-python",
   "name": "python",
   "nbconvert_exporter": "python",
   "pygments_lexer": "ipython3",
   "version": "3.8.1"
  }
 },
 "nbformat": 4,
 "nbformat_minor": 4
}
